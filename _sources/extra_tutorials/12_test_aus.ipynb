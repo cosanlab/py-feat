{
 "cells": [
  {
   "cell_type": "markdown",
   "metadata": {},
   "source": [
    "## 12. Benchmarking Action Unit detector using data\n",
    "*written by Tiankang Xie*  \n",
    "\n",
    "In the tutorial we will demonstrate how to evaluate pyfeat AU algorithms with evaluation data"
   ]
  },
  {
   "cell_type": "code",
   "execution_count": 33,
   "metadata": {},
   "outputs": [],
   "source": [
    "import sys\n",
    "from copy import deepcopy\n",
    "import numpy as np\n",
    "import matplotlib.pyplot as plt\n",
    "from PIL import Image\n",
    "from torchvision import transforms\n",
    "from feat.utils.image_operations import extract_face_from_landmarks\n",
    "from PIL import Image\n",
    "import os \n",
    "import pandas as pd\n",
    "from tqdm import tqdm\n",
    "from feat import Detector\n",
    "import glob\n",
    "from skimage.feature import hog\n",
    "import pickle\n",
    "from feat.data import imageLoader_DISFAPlus\n",
    "from sklearn.metrics import f1_score"
   ]
  },
  {
   "cell_type": "markdown",
   "metadata": {},
   "source": [
    "Provide the path for the \n",
    "1. raw dataset.\n",
    "2. where to save the validation results\n",
    "\n",
    "You can request it from http://mohammadmahoor.com/disfa/"
   ]
  },
  {
   "cell_type": "code",
   "execution_count": null,
   "metadata": {},
   "outputs": [],
   "source": [
    "save_result_dir = '/Storage/Projects/pyfeat_testing/Data_Eshin/au_test/'\n",
    "data_dir = \"/Storage/Data/DISFAPlusDataset/\"\n",
    "disfa_file_data = imageLoader_DISFAPlus(data_dir=data_dir) # We provide a special dataloader for disfaPlus"
   ]
  },
  {
   "cell_type": "markdown",
   "metadata": {},
   "source": [
    "## 1. Test XGB model"
   ]
  },
  {
   "cell_type": "code",
   "execution_count": 16,
   "metadata": {},
   "outputs": [
    {
     "name": "stderr",
     "output_type": "stream",
     "text": [
      "/home/tiankang/anaconda3/envs/py39/lib/python3.9/site-packages/torchvision/models/_utils.py:135: UserWarning: Using 'backbone_name' as positional parameter(s) is deprecated since 0.13 and may be removed in the future. Please use keyword parameter(s) instead.\n",
      "  warnings.warn(\n",
      "/home/tiankang/anaconda3/envs/py39/lib/python3.9/site-packages/torchvision/models/_utils.py:223: UserWarning: Arguments other than a weight enum or `None` for 'weights' are deprecated since 0.13 and may be removed in the future. The current behavior is equivalent to passing `weights=ResNet18_Weights.IMAGENET1K_V1`. You can also use `weights=ResNet18_Weights.DEFAULT` to get the most up-to-date weights.\n",
      "  warnings.warn(msg)\n"
     ]
    }
   ],
   "source": [
    "# Define the function just to extract landmarks from images\n",
    "detector = Detector(face_model='retinaface',emotion_model='resmasknet', landmark_model=\"mobilefacenet\", au_model='xgb', device='cpu')"
   ]
  },
  {
   "cell_type": "code",
   "execution_count": null,
   "metadata": {},
   "outputs": [],
   "source": [
    "aus_classified = []\n",
    "for i, imgs in enumerate(tqdm(disfa_file_data)):\n",
    "    faces = detector.detect_faces(imgs['Image'])\n",
    "    landmarks = detector.detect_landmarks(imgs['Image'], detected_faces=faces)\n",
    "    poses = detector.detect_facepose(imgs['Image'])\n",
    "    aus = detector.detect_aus(imgs['Image'], landmarks)\n",
    "    aus_classified.append(aus)\n",
    "\n",
    "with open(save_result_dir+'xgb_au_predictions.pkl', 'wb') as fp:\n",
    "    pickle.dump(aus_classified, fp)"
   ]
  },
  {
   "cell_type": "markdown",
   "metadata": {},
   "source": [
    "### Calculate F1 score Metrics"
   ]
  },
  {
   "cell_type": "code",
   "execution_count": 40,
   "metadata": {},
   "outputs": [],
   "source": [
    "with open(save_result_dir+'xgb_au_predictions.pkl', 'rb') as fp:\n",
    "    aus_classified = pickle.load(fp)\n",
    "predictions = np.squeeze(np.stack(aus_classified[0]))\n",
    "labels = aus_classified[1]"
   ]
  },
  {
   "cell_type": "code",
   "execution_count": 42,
   "metadata": {},
   "outputs": [],
   "source": [
    "predicted_aus = [\"AU1\",\"AU2\",\"AU4\",\"AU5\",\"AU6\",\"AU7\",\"AU9\",\"AU10\",\"AU11\",\"AU12\",\"AU14\",\"AU15\",\n",
    "                    \"AU17\",\"AU20\",\"AU23\",\"AU24\",\"AU25\",\"AU26\",\"AU28\", \"AU43\"]\n",
    "testing_aus = ['AU1', 'AU2', 'AU4', 'AU5', 'AU6', 'AU9', 'AU12', 'AU15', 'AU17', 'AU20', 'AU25', 'AU26']"
   ]
  },
  {
   "cell_type": "code",
   "execution_count": null,
   "metadata": {},
   "outputs": [],
   "source": [
    "for i, auname in enumerate(testing_aus):\n",
    "    print('======')\n",
    "    index_arr = predicted_aus.index(auname)\n",
    "    print(auname, ',  f1 score: ', f1_score((labels[auname]>=2).astype(int), (predictions[:, index_arr]>=0.5).astype(int)))"
   ]
  },
  {
   "cell_type": "markdown",
   "metadata": {},
   "source": [
    "# 2. Test SVM model"
   ]
  },
  {
   "cell_type": "code",
   "execution_count": null,
   "metadata": {},
   "outputs": [],
   "source": [
    "detector = Detector(face_model='retinaface',emotion_model='resmasknet', landmark_model=\"mobilefacenet\", au_model='svm', device='cpu')"
   ]
  },
  {
   "cell_type": "code",
   "execution_count": null,
   "metadata": {},
   "outputs": [],
   "source": [
    "aus_classified = []\n",
    "for i, imgs in enumerate(tqdm(disfa_file_data)):\n",
    "    faces = detector.detect_faces(imgs['Image'])\n",
    "    landmarks = detector.detect_landmarks(imgs['Image'], detected_faces=faces)\n",
    "    poses = detector.detect_facepose(imgs['Image'])\n",
    "    aus = detector.detect_aus(imgs['Image'], landmarks)\n",
    "    aus_classified.append(aus)\n",
    "\n",
    "with open(save_result_dir+'svm_au_predictions.pkl', 'wb') as fp:\n",
    "    pickle.dump(aus_classified, fp)"
   ]
  },
  {
   "cell_type": "markdown",
   "metadata": {},
   "source": [
    "### Calculate F1 score Metrics"
   ]
  },
  {
   "cell_type": "code",
   "execution_count": null,
   "metadata": {},
   "outputs": [],
   "source": [
    "with open(save_result_dir+'svm_au_predictions.pkl', 'rb') as fp:\n",
    "    aus_classified = pickle.load(fp)\n",
    "predictions = np.squeeze(np.stack(aus_classified[0]))\n",
    "labels = aus_classified[1]"
   ]
  },
  {
   "cell_type": "code",
   "execution_count": null,
   "metadata": {},
   "outputs": [],
   "source": [
    "predicted_aus = [\"AU1\",\"AU2\",\"AU4\",\"AU5\",\"AU6\",\"AU7\",\"AU9\",\"AU10\",\"AU11\",\"AU12\",\"AU14\",\"AU15\",\n",
    "                    \"AU17\",\"AU20\",\"AU23\",\"AU24\",\"AU25\",\"AU26\",\"AU28\", \"AU43\"]\n",
    "testing_aus = ['AU1', 'AU2', 'AU4', 'AU5', 'AU6', 'AU9', 'AU12', 'AU15', 'AU17', 'AU20', 'AU25', 'AU26']"
   ]
  },
  {
   "cell_type": "code",
   "execution_count": null,
   "metadata": {},
   "outputs": [],
   "source": [
    "for i, auname in enumerate(testing_aus):\n",
    "    print('======')\n",
    "    index_arr = predicted_aus.index(auname)\n",
    "    print(auname, ' f1 score: ', f1_score((labels[auname]>=2).astype(int), (predictions[:, index_arr]>=0.5).astype(int)))"
   ]
  }
 ],
 "metadata": {
  "kernelspec": {
   "display_name": "Python 3.9.7 ('py39')",
   "language": "python",
   "name": "python3"
  },
  "language_info": {
   "codemirror_mode": {
    "name": "ipython",
    "version": 3
   },
   "file_extension": ".py",
   "mimetype": "text/x-python",
   "name": "python",
   "nbconvert_exporter": "python",
   "pygments_lexer": "ipython3",
   "version": "3.9.7"
  },
  "orig_nbformat": 4,
  "vscode": {
   "interpreter": {
    "hash": "bb973b375f2d280323e3fea5f1f02d1878ea0342ecfe5636a4609970d8a89fff"
   }
  }
 },
 "nbformat": 4,
 "nbformat_minor": 2
}
