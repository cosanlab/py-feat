{
 "cells": [
  {
   "cell_type": "markdown",
   "metadata": {},
   "source": [
    "# 1. Py-Feat basics"
   ]
  },
  {
   "cell_type": "markdown",
   "metadata": {},
   "source": [
    "This tutorial goes over the basics of using Py-Feat's API. At a broad level you will be working with 2 main objects in Py-Feat:\n",
    "\n",
    "#### Detectors\n",
    "A detector is a swiss-army-knife class that \"glues\" together a particular combination of a Face, Landmark, Action Unit, and Emotion detection model into a single object. This allows us to provide a very easy-to-use high-level API, e.g. `detector.detect_image('my_image.jpg')`, which will autmatically make use of the correct underlying model to solve the sub-tasks of identifying face locations, getting landmarks, extracting action units, etc. \n",
    "\n",
    "When asked to process an input, detectors always return results as `Fex` data class.\n",
    "\n",
    "#### Fex data classes\n",
    "A Fex data class is just a special type of pandas dataframe then makes it easier to work with the results returned by a detector. Each row contains information about a detected face and each column contains the output of that detection (e.g. x, y location; emotion) or some meta-data about the input file (e.g. the filename). \n",
    "\n",
    "Fex data instances have helper methods on them to quickly retrieve the appropriate data you want without having to search through column names yourself, e.g.  `fex.emotions()`. They also have methods for plotting e.g. `fex.plot_detections()`, signal-processing e.g. `fex.downsample()`, and statistical analysis e.g. `fex.regress()`.\n"
   ]
  },
  {
   "cell_type": "code",
   "execution_count": null,
   "metadata": {},
   "outputs": [],
   "source": [
    "from feat.detector import Detector\n",
    "from feat.data import Fex"
   ]
  },
  {
   "cell_type": "code",
   "execution_count": null,
   "metadata": {},
   "outputs": [],
   "source": [
    "detector = Detector()"
   ]
  },
  {
   "cell_type": "code",
   "execution_count": null,
   "metadata": {},
   "outputs": [],
   "source": [
    "detector"
   ]
  }
 ],
 "metadata": {
  "interpreter": {
   "hash": "7dcf886e642ffd7132d8e9a6cd5ca71978ba2253d781a5b1b4944468a6c69f78"
  },
  "kernelspec": {
   "display_name": "Python 3.8.12 ('py-feat')",
   "language": "python",
   "name": "python3"
  },
  "language_info": {
   "codemirror_mode": {
    "name": "ipython",
    "version": 3
   },
   "file_extension": ".py",
   "mimetype": "text/x-python",
   "name": "python",
   "nbconvert_exporter": "python",
   "pygments_lexer": "ipython3",
   "version": "3.8.12"
  },
  "orig_nbformat": 4
 },
 "nbformat": 4,
 "nbformat_minor": 2
}
